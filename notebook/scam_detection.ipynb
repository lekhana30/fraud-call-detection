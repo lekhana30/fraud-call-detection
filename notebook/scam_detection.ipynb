{
 "cells": [
  {
   "cell_type": "markdown",
   "id": "09128cc2-b8a6-4e40-8047-be44855ee766",
   "metadata": {},
   "source": [
    "## 🔹 Step 1: Data Ingestion\n",
    "An Excel file (`BETTER30.csv.xlsx`) is loaded and ingested into an SQLite database (`call_quality.db`) using Python.\n",
    "\n",
    "The process is logged in `data_ingestion.log` with timestamps for traceability.\n"
   ]
  },
  {
   "cell_type": "code",
   "execution_count": 5,
   "id": "7a6783c8-eb15-47c0-a5e2-36b84d8bac33",
   "metadata": {},
   "outputs": [
    {
     "name": "stdout",
     "output_type": "stream",
     "text": [
      "   CONVERSATION_ID  CONVERSATION_STEP  \\\n",
      "0                6                  1   \n",
      "1                6                  2   \n",
      "2                6                  3   \n",
      "3                6                  4   \n",
      "4                6                  5   \n",
      "\n",
      "                                                TEXT  \\\n",
      "0  Good morning, this is [Your Name]'s personal a...   \n",
      "1  Hello, my name is Jamie. I'm interested in vol...   \n",
      "2  Yes, I'm really passionate about environmental...   \n",
      "3  Great, how do I sign up, and where can I find ...   \n",
      "4  Could you send me the link, please? And my ema...   \n",
      "\n",
      "                             CONTEXT    LABEL                      FEATURES  \\\n",
      "0          Standard opening exchange  neutral                           NaN   \n",
      "1   Encourages the caller's interest  neutral      welcoming, positive_tone   \n",
      "2    Reinforces anyone can volunteer  neutral                     inclusive   \n",
      "3           Demonstrates flexibility  neutral  helpful_tone, offers_options   \n",
      "4  Fulfills caller's request quickly  neutral                 prompt_action   \n",
      "\n",
      "  ANNOTATIONS  \n",
      "0         NaN  \n",
      "1         NaN  \n",
      "2         NaN  \n",
      "3         NaN  \n",
      "4         NaN  \n"
     ]
    }
   ],
   "source": [
    "import pandas as pd\n",
    "import sqlite3\n",
    "import time\n",
    "import logging\n",
    "from sqlalchemy import create_engine\n",
    "\n",
    "# 1. Setup Logging\n",
    "logging.basicConfig(\n",
    "    filename='data_ingestion.log',\n",
    "    level=logging.INFO,\n",
    "    format='%(asctime)s | %(levelname)s | %(message)s',\n",
    "    datefmt='%Y-%m-%d %H:%M:%S'\n",
    ")\n",
    "\n",
    "# 2. Create SQLite Engine\n",
    "engine = create_engine('sqlite:///call_quality.db')  # You can change filename\n",
    "\n",
    "# 3. Ingest Function\n",
    "def ingest_excel_to_db(file_path, table_name):\n",
    "    try:\n",
    "        start = time.time()\n",
    "        \n",
    "        # Read Excel file\n",
    "        df = pd.read_excel(file_path)\n",
    "        logging.info(f\"Loaded Excel file: {file_path}\")\n",
    "\n",
    "        # ✅ Show first 5 rows\n",
    "        print(df.head())\n",
    "\n",
    "        # Push to database\n",
    "        df.to_sql(table_name, con=engine, if_exists='replace', index=False)\n",
    "        logging.info(f\"Ingested data into table: {table_name}\")\n",
    "        \n",
    "        end = time.time()\n",
    "        total_time = round((end - start), 2)\n",
    "        logging.info(f\"✅ Ingestion complete in {total_time} seconds\")\n",
    "\n",
    "    except Exception as e:\n",
    "        logging.error(f\"❌ Error during ingestion: {str(e)}\")\n",
    "\n",
    "# 4. Call the Function\n",
    "file_path = \"BETTER30.csv.xlsx\"\n",
    "table_name = \"raw_conversations\"\n",
    "\n",
    "ingest_excel_to_db(file_path, table_name)\n"
   ]
  },
  {
   "cell_type": "markdown",
   "id": "f450f711-d352-40df-93c5-9ace1ec5ebd1",
   "metadata": {},
   "source": [
    "## 🔹 Step 2: Exploratory Data Analysis (EDA)\n",
    "Basic statistics, missing values, and label distributions are examined to understand the structure and quality of the raw data.\n"
   ]
  },
  {
   "cell_type": "code",
   "execution_count": 6,
   "id": "6ad36c6b-34ee-46c2-a115-a46085dbcb3f",
   "metadata": {},
   "outputs": [
    {
     "name": "stdout",
     "output_type": "stream",
     "text": [
      "------------------- Columns & Types ------------------\n",
      "<class 'pandas.core.frame.DataFrame'>\n",
      "RangeIndex: 650 entries, 0 to 649\n",
      "Data columns (total 7 columns):\n",
      " #   Column             Non-Null Count  Dtype \n",
      "---  ------             --------------  ----- \n",
      " 0   CONVERSATION_ID    650 non-null    int64 \n",
      " 1   CONVERSATION_STEP  650 non-null    int64 \n",
      " 2   TEXT               650 non-null    object\n",
      " 3   CONTEXT            647 non-null    object\n",
      " 4   LABEL              650 non-null    object\n",
      " 5   FEATURES           571 non-null    object\n",
      " 6   ANNOTATIONS        255 non-null    object\n",
      "dtypes: int64(2), object(5)\n",
      "memory usage: 35.7+ KB\n",
      "None\n",
      "------------------- MISSING VALUES -------------------\n",
      "CONVERSATION_ID        0\n",
      "CONVERSATION_STEP      0\n",
      "TEXT                   0\n",
      "CONTEXT                3\n",
      "LABEL                  0\n",
      "FEATURES              79\n",
      "ANNOTATIONS          395\n",
      "dtype: int64\n",
      "------------------- LABEL DISTRIBUTION -------------------\n",
      "LABEL\n",
      "neutral                                     158\n",
      " scam                                       138\n",
      " scam_response                              117\n",
      "scam                                         82\n",
      "legitimate                                   43\n",
      " neutral                                     35\n",
      "suspicious                                   32\n",
      " legitimate                                  14\n",
      "slightly_suspicious                           8\n",
      "potential_scam                                7\n",
      "highly_suspicious                             3\n",
      "scam_response                                 3\n",
      " citing urgency\"                              2\n",
      "standard_opening, identification_request      1\n",
      "polite_ending                                 1\n",
      " dismissing official protocols\"               1\n",
      " emphasizing security and compliance\"         1\n",
      " suggesting a dangerous situation\"            1\n",
      " ready for further engagement\"                1\n",
      " adhering to protocols\"                       1\n",
      "Scam                                          1\n",
      "Name: count, dtype: int64\n",
      "------------------- FEATURES -------------------\n",
      "FEATURES\n",
      "None                             79\n",
      "verification_request             26\n",
      "urgency, guilt_inducement         6\n",
      "urgency, deflects                 5\n",
      " \"security_protocol_adherence     5\n",
      "                                 ..\n",
      "clear_instructions                1\n",
      "offers_options, proactive         1\n",
      "confirms_resolution               1\n",
      "confirms_details                  1\n",
      " \"review_commitment               1\n",
      "Name: count, Length: 458, dtype: int64\n"
     ]
    }
   ],
   "source": [
    "# Load from DB\n",
    "df = pd.read_sql(\"SELECT * FROM raw_conversations\", con=engine)\n",
    "\n",
    "# Basic EDA\n",
    "print(\"------------------- Columns & Types ------------------\")\n",
    "print(df.info())\n",
    "\n",
    "print(\"------------------- MISSING VALUES -------------------\")\n",
    "print(df.isnull().sum())\n",
    "\n",
    "print(\"------------------- LABEL DISTRIBUTION -------------------\")\n",
    "print(df['LABEL'].value_counts())\n",
    "\n",
    "print(\"------------------- FEATURES -------------------\")\n",
    "print(df['FEATURES'].value_counts(dropna=False))\n"
   ]
  },
  {
   "cell_type": "markdown",
   "id": "17ab7346-49b0-474a-bb1f-3613fe05124f",
   "metadata": {},
   "source": [
    "## Step 3: Cleaning Data\n",
    "\n",
    "### Columns & Data Types\n",
    "- 7 columns in total: 2 integers, 5 objects\n",
    "- Total rows: 650\n",
    "### Missing Values\n",
    "- `CONTEXT`: 3 missing\n",
    "- `FEATURES`: 79 missing\n",
    "- `ANNOTATIONS`: 395 missing\n",
    "###  Label Distribution (Uncleaned)\n",
    "- The `LABEL` column contains many variations like:\n",
    "  - `scam`, ` scam`, `Scam`\n",
    "  - `neutral`, ` neutral`\n",
    "  - Phrases like `\"citing urgency\"` or `\"adhering to protocols\"`\n",
    "###  Features Column\n",
    "- High cardinality (`458` unique values)\n",
    "- 79 missing values\n",
    "- Some entries include multiple features like: `urgency, guilt_inducement`\n"
   ]
  },
  {
   "cell_type": "code",
   "execution_count": 7,
   "id": "8c9b98cf-4223-41f3-98f3-97c25ad70fe3",
   "metadata": {},
   "outputs": [],
   "source": [
    "# Convert context and label to category type (saves memory)\n",
    "df['CONTEXT'] = df['CONTEXT'].astype('category')\n",
    "df['LABEL'] = df['LABEL'].astype('category')\n"
   ]
  },
  {
   "cell_type": "code",
   "execution_count": 8,
   "id": "d276d865-f610-470e-b730-96432d9bee93",
   "metadata": {},
   "outputs": [],
   "source": [
    "df = df.dropna(subset=['CONTEXT'])"
   ]
  },
  {
   "cell_type": "code",
   "execution_count": 9,
   "id": "c563edef-eaa7-45c9-bc39-b35878a4022f",
   "metadata": {},
   "outputs": [],
   "source": [
    "df['FEATURES'] = df['FEATURES'].fillna(\"unknown\")"
   ]
  },
  {
   "cell_type": "code",
   "execution_count": 10,
   "id": "af205650-0e96-406d-8ddb-39dbbac54787",
   "metadata": {},
   "outputs": [],
   "source": [
    "df['ANNOTATIONS'] = df['ANNOTATIONS'].fillna(\"unavailable\")"
   ]
  },
  {
   "cell_type": "code",
   "execution_count": 11,
   "id": "e9499e95-ef7c-4212-825e-edab3174a7da",
   "metadata": {},
   "outputs": [
    {
     "name": "stdout",
     "output_type": "stream",
     "text": [
      "------------------- MISSING VALUES AFTER CLEANING -------------------\n",
      "CONVERSATION_ID      0\n",
      "CONVERSATION_STEP    0\n",
      "TEXT                 0\n",
      "CONTEXT              0\n",
      "LABEL                0\n",
      "FEATURES             0\n",
      "ANNOTATIONS          0\n",
      "dtype: int64\n"
     ]
    }
   ],
   "source": [
    "print(\"------------------- MISSING VALUES AFTER CLEANING -------------------\")\n",
    "print(df.isnull().sum())"
   ]
  },
  {
   "cell_type": "code",
   "execution_count": 12,
   "id": "bccfe152-44de-4f55-8b28-e634e41b882e",
   "metadata": {},
   "outputs": [],
   "source": [
    "df['LABEL'] = df['LABEL'].str.strip().str.lower()"
   ]
  },
  {
   "cell_type": "code",
   "execution_count": 13,
   "id": "1fcbb824-7752-4fcf-b265-531305e714d6",
   "metadata": {},
   "outputs": [
    {
     "name": "stdout",
     "output_type": "stream",
     "text": [
      "LABEL\n",
      "scam                                        220\n",
      "neutral                                     192\n",
      "scam_response                               120\n",
      "legitimate                                   57\n",
      "suspicious                                   32\n",
      "slightly_suspicious                           8\n",
      "potential_scam                                7\n",
      "highly_suspicious                             3\n",
      "citing urgency\"                               2\n",
      "standard_opening, identification_request      1\n",
      "dismissing official protocols\"                1\n",
      "emphasizing security and compliance\"          1\n",
      "ready for further engagement\"                 1\n",
      "suggesting a dangerous situation\"             1\n",
      "adhering to protocols\"                        1\n",
      "Name: count, dtype: int64\n"
     ]
    }
   ],
   "source": [
    "print(df['LABEL'].value_counts())"
   ]
  },
  {
   "cell_type": "code",
   "execution_count": 14,
   "id": "f6de63d3-4473-435e-85b2-d0675eadbb57",
   "metadata": {},
   "outputs": [],
   "source": [
    "df['LABEL'] = df['LABEL'].str.strip().str.lower().str.replace('\"', '', regex=False)"
   ]
  },
  {
   "cell_type": "code",
   "execution_count": 15,
   "id": "b18d485a-ee5d-4fff-b7f8-48c9c6d9d5b9",
   "metadata": {},
   "outputs": [
    {
     "name": "stdout",
     "output_type": "stream",
     "text": [
      "LABEL\n",
      "scam                                        220\n",
      "neutral                                     192\n",
      "scam_response                               120\n",
      "legitimate                                   57\n",
      "suspicious                                   32\n",
      "slightly_suspicious                           8\n",
      "potential_scam                                7\n",
      "highly_suspicious                             3\n",
      "citing urgency                                2\n",
      "standard_opening, identification_request      1\n",
      "dismissing official protocols                 1\n",
      "emphasizing security and compliance           1\n",
      "ready for further engagement                  1\n",
      "suggesting a dangerous situation              1\n",
      "adhering to protocols                         1\n",
      "Name: count, dtype: int64\n"
     ]
    }
   ],
   "source": [
    "print(df['LABEL'].value_counts())"
   ]
  },
  {
   "cell_type": "code",
   "execution_count": 16,
   "id": "8667dc45-ae4d-4a5c-949c-e285013e591a",
   "metadata": {},
   "outputs": [],
   "source": [
    "main_labels = [\n",
    "    'scam',\n",
    "    'neutral',\n",
    "    'scam_response',\n",
    "    'legitimate',\n",
    "    'suspicious',\n",
    "    'slightly_suspicious',\n",
    "    'potential_scam',\n",
    "    'highly_suspicious', \n",
    "    'citing urgency'\n",
    "]\n",
    "\n",
    "df['LABEL'] = df['LABEL'].apply(lambda x: x if x in main_labels else 'misc')\n"
   ]
  },
  {
   "cell_type": "code",
   "execution_count": 17,
   "id": "be5b5ed2-527d-4a39-a9ab-a1d1dbad68c7",
   "metadata": {},
   "outputs": [
    {
     "name": "stdout",
     "output_type": "stream",
     "text": [
      "------------------- FINAL LABEL DISTRIBUTION -------------------\n",
      "LABEL\n",
      "scam                   220\n",
      "neutral                192\n",
      "scam_response          120\n",
      "legitimate              57\n",
      "suspicious              32\n",
      "slightly_suspicious      8\n",
      "potential_scam           7\n",
      "misc                     6\n",
      "highly_suspicious        3\n",
      "citing urgency           2\n",
      "Name: count, dtype: int64\n"
     ]
    }
   ],
   "source": [
    "print(\"------------------- FINAL LABEL DISTRIBUTION -------------------\")\n",
    "print(df['LABEL'].value_counts())\n"
   ]
  },
  {
   "cell_type": "code",
   "execution_count": 18,
   "id": "c7492c8d-9f04-4610-98cf-5fb4de4330d8",
   "metadata": {},
   "outputs": [],
   "source": [
    "df['FEATURES'] = df['FEATURES'].str.strip().str.lower()"
   ]
  },
  {
   "cell_type": "code",
   "execution_count": 19,
   "id": "91a4565b-4fd6-40c7-8cb0-1b0e901b22d7",
   "metadata": {},
   "outputs": [],
   "source": [
    "df['FEATURE_LIST'] = df['FEATURES'].apply(lambda x: [f.strip() for f in x.split(',')] if x != 'unknown' else [])"
   ]
  },
  {
   "cell_type": "code",
   "execution_count": 20,
   "id": "929b4b21-bcbd-47ba-a08a-278c5958efe2",
   "metadata": {},
   "outputs": [
    {
     "name": "stdout",
     "output_type": "stream",
     "text": [
      "------------------- TOP FEATURES -------------------\n",
      "[('urgency', 35), ('verification_request', 30), ('guilt_inducement', 9), ('positive_closure', 8), ('confirmation', 8), ('evasion', 6), ('deflects', 6), ('proactive', 5), ('\"security_protocol_adherence', 5), ('\"frustration_expression', 5)]\n"
     ]
    }
   ],
   "source": [
    "from collections import Counter\n",
    "\n",
    "all_features = df['FEATURE_LIST'].explode()\n",
    "feature_counts = Counter(all_features)\n",
    "print(\"------------------- TOP FEATURES -------------------\")\n",
    "print(feature_counts.most_common(10))\n"
   ]
  },
  {
   "cell_type": "code",
   "execution_count": 21,
   "id": "706db8df-d668-49c1-8512-2ae37f750c0c",
   "metadata": {},
   "outputs": [],
   "source": [
    "df['FEATURE_LIST'] = df['FEATURES'].apply(\n",
    "    lambda x: [f.strip().replace('\"', '') for f in x.split(',')] if x != 'unknown' else []\n",
    ")"
   ]
  },
  {
   "cell_type": "code",
   "execution_count": 22,
   "id": "cd91bd99-ca57-4501-8dd6-41ed894b4493",
   "metadata": {},
   "outputs": [
    {
     "name": "stdout",
     "output_type": "stream",
     "text": [
      "------------------- TOP CLEANED FEATURES -------------------\n",
      "[('urgency', 35), ('verification_request', 32), ('positive_closure', 10), ('guilt_inducement', 9), ('confirmation', 8), ('evasion', 6), ('deflects', 6), ('security_protocol_adherence', 6), ('proactive', 5), ('frustration_expression', 5)]\n"
     ]
    }
   ],
   "source": [
    "from collections import Counter\n",
    "\n",
    "all_features = df['FEATURE_LIST'].explode()\n",
    "feature_counts = Counter(all_features)\n",
    "\n",
    "print(\"------------------- TOP CLEANED FEATURES -------------------\")\n",
    "print(feature_counts.most_common(10))\n"
   ]
  },
  {
   "cell_type": "markdown",
   "id": "892d6ebd-83ae-4ffb-a957-cd5aeec186ae",
   "metadata": {},
   "source": [
    "## Step 4: PII (Personally Identifiable Information) Detection\n",
    "\n",
    "This step flags sensitive information in the `TEXT` column that may pose a compliance or security risk. Detecting PII is crucial in quality assurance for call transcripts, especially in domains involving scam detection, fraud, and sensitive user interaction.\n",
    "\n",
    "### What is flagged as PII?\n",
    "\n",
    "The following are considered PII and will be flagged:\n",
    "-  Phone Numbers (10-digit)\n",
    "-  Email Addresses\n",
    "-  Credit/Debit Card Patterns\n",
    "-  Keywords such as:\n",
    "  - `OTP`, `password`, `CVV`, `PIN`, `account`, `credit card`, `bank`\n",
    "\n",
    "### Method\n",
    "\n",
    "- Regular expressions (`regex`) are used to scan each text entry\n",
    "- If a match is found, the row is marked `True` under a new column: `PII_Flag`\n",
    "- This allows analysts to quickly identify risky interactions\n",
    "\n",
    "### Output\n",
    "\n",
    "A summary of how many rows contain PII, and examples of flagged texts, are displayed to verify detection accuracy.\n"
   ]
  },
  {
   "cell_type": "code",
   "execution_count": 23,
   "id": "de816ffa-7cf8-4e68-b9fd-ae85f52e83f0",
   "metadata": {},
   "outputs": [],
   "source": [
    "import re\n",
    "\n",
    "def detect_pii(text):\n",
    "    text = str(text).lower()\n",
    "    patterns = [\n",
    "        r\"\\b\\d{10}\\b\",                               # 10-digit phone numbers\n",
    "        r\"[a-zA-Z0-9._%+-]+@[a-zA-Z0-9.-]+\\.[a-z]{2,}\",  # email\n",
    "        r\"\\b(?:\\d{4}[- ]?){3,4}\\b\",                 # credit card / long numeric\n",
    "        r\"\\b(?:otp|password|cvv|pin|account|credit card|debit card|bank)\\b\"  # keywords\n",
    "    ]\n",
    "    for pattern in patterns:\n",
    "        if re.search(pattern, text):\n",
    "            return True\n",
    "    return False\n"
   ]
  },
  {
   "cell_type": "code",
   "execution_count": 24,
   "id": "fbbb8b4d-2832-44d9-8da1-f6411e44ceb9",
   "metadata": {},
   "outputs": [],
   "source": [
    "df['PII_Flag'] = df['TEXT'].apply(detect_pii)"
   ]
  },
  {
   "cell_type": "code",
   "execution_count": 25,
   "id": "610ab075-c07f-4e45-be1b-3324ee5aee3e",
   "metadata": {},
   "outputs": [
    {
     "name": "stdout",
     "output_type": "stream",
     "text": [
      "------------------- PII DETECTION -------------------\n",
      "PII_Flag\n",
      "False    601\n",
      "True      46\n",
      "Name: count, dtype: int64\n"
     ]
    }
   ],
   "source": [
    "print(\"------------------- PII DETECTION -------------------\")\n",
    "print(df['PII_Flag'].value_counts())"
   ]
  },
  {
   "cell_type": "code",
   "execution_count": 26,
   "id": "6c8bc92a-471a-44c8-bd3c-8c6c26f465d6",
   "metadata": {},
   "outputs": [
    {
     "data": {
      "text/html": [
       "<div>\n",
       "<style scoped>\n",
       "    .dataframe tbody tr th:only-of-type {\n",
       "        vertical-align: middle;\n",
       "    }\n",
       "\n",
       "    .dataframe tbody tr th {\n",
       "        vertical-align: top;\n",
       "    }\n",
       "\n",
       "    .dataframe thead th {\n",
       "        text-align: right;\n",
       "    }\n",
       "</style>\n",
       "<table border=\"1\" class=\"dataframe\">\n",
       "  <thead>\n",
       "    <tr style=\"text-align: right;\">\n",
       "      <th></th>\n",
       "      <th>TEXT</th>\n",
       "      <th>PII_Flag</th>\n",
       "    </tr>\n",
       "  </thead>\n",
       "  <tbody>\n",
       "    <tr>\n",
       "      <th>4</th>\n",
       "      <td>Could you send me the link, please? And my email is jamie.green@example.com. [Step: 4] Absolutely, Jamie. I'll send the link to your email along with additional resources about the event. You should receive it within a few minutes.</td>\n",
       "      <td>True</td>\n",
       "    </tr>\n",
       "    <tr>\n",
       "      <th>25</th>\n",
       "      <td>Sure, it's sam.photography@example.com. [Step: 5] Thank you, Sam. You'll receive an email shortly with all the information you need. Is there anything else I can assist you with today?</td>\n",
       "      <td>True</td>\n",
       "    </tr>\n",
       "    <tr>\n",
       "      <th>45</th>\n",
       "      <td>I'm calling from the bank. We've noticed suspicious activity... [Attack Formulation] For which account is this verification needed? Can you specify the nature of the suspicious activity?</td>\n",
       "      <td>True</td>\n",
       "    </tr>\n",
       "    <tr>\n",
       "      <th>46</th>\n",
       "      <td>It's your checking account. There have been multiple login attempts... [Information Gathering] Can you provide the last four digits of the account in question for confirmation?</td>\n",
       "      <td>True</td>\n",
       "    </tr>\n",
       "    <tr>\n",
       "      <th>47</th>\n",
       "      <td>Due to security reasons, I can't provide that... [Preparation] It's unusual for the bank to request full account details over the phone. Can I have a reference number for this call to verify it with the bank directly?</td>\n",
       "      <td>True</td>\n",
       "    </tr>\n",
       "    <tr>\n",
       "      <th>48</th>\n",
       "      <td>I'm afraid there's no time for that... [Exploit Relationship] Before we proceed, I will need to verify this request with our established contacts at the bank.</td>\n",
       "      <td>True</td>\n",
       "    </tr>\n",
       "    <tr>\n",
       "      <th>50</th>\n",
       "      <td>This is unnecessary. I have all the information I need... [Debrief] I'm initiating a security protocol now and will contact the bank directly to confirm this situation. Please hold.</td>\n",
       "      <td>True</td>\n",
       "    </tr>\n",
       "    <tr>\n",
       "      <th>56</th>\n",
       "      <td>Absolutely, my number is 555-6789, and my email is taylor.familyreunion@example.com. [Step: 5] Thank you, Taylor. I've scheduled a tentative hold for your event and will arrange for our event coordinator to contact you by tomorrow to discuss further details. Is there anything else I can assist with today?</td>\n",
       "      <td>True</td>\n",
       "    </tr>\n",
       "    <tr>\n",
       "      <th>60</th>\n",
       "      <td>Sure, I'm trying to connect the device to my home Wi-Fi network, but it keeps failing to connect... [Step: 2] I understand how that can be frustrating. Let's try to troubleshoot this together. Have you checked to ensure your Wi-Fi network is working correctly and that you're entering the correct Wi-Fi password?</td>\n",
       "      <td>True</td>\n",
       "    </tr>\n",
       "    <tr>\n",
       "      <th>61</th>\n",
       "      <td>Yes, my Wi-Fi is working fine. I've double-checked the password too... [Step: 3] Alright, let's reset the device to its factory settings and attempt the connection again. I can guide you through the reset process.</td>\n",
       "      <td>True</td>\n",
       "    </tr>\n",
       "  </tbody>\n",
       "</table>\n",
       "</div>"
      ],
      "text/plain": [
       "                                                                                                                                                                                                                                                                                                                        TEXT  \\\n",
       "4                                                                                    Could you send me the link, please? And my email is jamie.green@example.com. [Step: 4] Absolutely, Jamie. I'll send the link to your email along with additional resources about the event. You should receive it within a few minutes.   \n",
       "25                                                                                                                                  Sure, it's sam.photography@example.com. [Step: 5] Thank you, Sam. You'll receive an email shortly with all the information you need. Is there anything else I can assist you with today?   \n",
       "45                                                                                                                                I'm calling from the bank. We've noticed suspicious activity... [Attack Formulation] For which account is this verification needed? Can you specify the nature of the suspicious activity?   \n",
       "46                                                                                                                                          It's your checking account. There have been multiple login attempts... [Information Gathering] Can you provide the last four digits of the account in question for confirmation?   \n",
       "47                                                                                                 Due to security reasons, I can't provide that... [Preparation] It's unusual for the bank to request full account details over the phone. Can I have a reference number for this call to verify it with the bank directly?   \n",
       "48                                                                                                                                                            I'm afraid there's no time for that... [Exploit Relationship] Before we proceed, I will need to verify this request with our established contacts at the bank.   \n",
       "50                                                                                                                                     This is unnecessary. I have all the information I need... [Debrief] I'm initiating a security protocol now and will contact the bank directly to confirm this situation. Please hold.   \n",
       "56        Absolutely, my number is 555-6789, and my email is taylor.familyreunion@example.com. [Step: 5] Thank you, Taylor. I've scheduled a tentative hold for your event and will arrange for our event coordinator to contact you by tomorrow to discuss further details. Is there anything else I can assist with today?   \n",
       "60  Sure, I'm trying to connect the device to my home Wi-Fi network, but it keeps failing to connect... [Step: 2] I understand how that can be frustrating. Let's try to troubleshoot this together. Have you checked to ensure your Wi-Fi network is working correctly and that you're entering the correct Wi-Fi password?   \n",
       "61                                                                                                     Yes, my Wi-Fi is working fine. I've double-checked the password too... [Step: 3] Alright, let's reset the device to its factory settings and attempt the connection again. I can guide you through the reset process.   \n",
       "\n",
       "    PII_Flag  \n",
       "4       True  \n",
       "25      True  \n",
       "45      True  \n",
       "46      True  \n",
       "47      True  \n",
       "48      True  \n",
       "50      True  \n",
       "56      True  \n",
       "60      True  \n",
       "61      True  "
      ]
     },
     "execution_count": 26,
     "metadata": {},
     "output_type": "execute_result"
    }
   ],
   "source": [
    "pd.set_option('display.max_colwidth', None)\n",
    "\n",
    "df[df['PII_Flag'] == True][['TEXT', 'PII_Flag']].head(10)\n"
   ]
  },
  {
   "cell_type": "code",
   "execution_count": 46,
   "id": "25c23c0d-0956-47f9-addd-27b9c40f2a90",
   "metadata": {},
   "outputs": [
    {
     "data": {
      "text/plain": [
       "CONVERSATION_ID         int64\n",
       "CONVERSATION_STEP       int64\n",
       "TEXT                   object\n",
       "CONTEXT              category\n",
       "LABEL                  object\n",
       "FEATURES               object\n",
       "ANNOTATIONS            object\n",
       "FEATURE_LIST           object\n",
       "PII_Flag                 bool\n",
       "dtype: object"
      ]
     },
     "execution_count": 46,
     "metadata": {},
     "output_type": "execute_result"
    }
   ],
   "source": [
    "df.dtypes\n"
   ]
  },
  {
   "cell_type": "code",
   "execution_count": 27,
   "id": "cb002d9c-0cc3-4a4b-b3cb-ca25f2955a1c",
   "metadata": {},
   "outputs": [],
   "source": [
    "# Convert 'category' to string\n",
    "df['CONTEXT'] = df['CONTEXT'].astype(str)\n",
    "\n",
    "# Convert boolean to int (True → 1, False → 0)\n",
    "df['PII_Flag'] = df['PII_Flag'].astype(int)\n",
    "\n",
    "# Flatten FEATURE_LIST (turn list into comma-separated string)\n",
    "df['FEATURE_LIST'] = df['FEATURE_LIST'].apply(lambda x: ', '.join(x) if isinstance(x, list) else str(x))\n"
   ]
  },
  {
   "cell_type": "code",
   "execution_count": 34,
   "id": "45a020db-3be7-4b58-a8f2-2bd9fa269fce",
   "metadata": {},
   "outputs": [
    {
     "name": "stdout",
     "output_type": "stream",
     "text": [
      "['CONVERSATION_ID', 'CONVERSATION_STEP', 'TEXT', 'CONTEXT', 'LABEL', 'FEATURES', 'ANNOTATIONS', 'FEATURE_LIST', 'PII_Flag']\n"
     ]
    },
    {
     "data": {
      "text/html": [
       "<div>\n",
       "<style scoped>\n",
       "    .dataframe tbody tr th:only-of-type {\n",
       "        vertical-align: middle;\n",
       "    }\n",
       "\n",
       "    .dataframe tbody tr th {\n",
       "        vertical-align: top;\n",
       "    }\n",
       "\n",
       "    .dataframe thead th {\n",
       "        text-align: right;\n",
       "    }\n",
       "</style>\n",
       "<table border=\"1\" class=\"dataframe\">\n",
       "  <thead>\n",
       "    <tr style=\"text-align: right;\">\n",
       "      <th></th>\n",
       "      <th>CONVERSATION_ID</th>\n",
       "      <th>CONVERSATION_STEP</th>\n",
       "      <th>TEXT</th>\n",
       "      <th>CONTEXT</th>\n",
       "      <th>LABEL</th>\n",
       "      <th>FEATURES</th>\n",
       "      <th>ANNOTATIONS</th>\n",
       "      <th>FEATURE_LIST</th>\n",
       "      <th>PII_Flag</th>\n",
       "    </tr>\n",
       "  </thead>\n",
       "  <tbody>\n",
       "    <tr>\n",
       "      <th>0</th>\n",
       "      <td>6</td>\n",
       "      <td>1</td>\n",
       "      <td>Good morning, this is [Your Name]'s personal assistant. How can I help you today?</td>\n",
       "      <td>Standard opening exchange</td>\n",
       "      <td>neutral</td>\n",
       "      <td>unknown</td>\n",
       "      <td>unavailable</td>\n",
       "      <td></td>\n",
       "      <td>0</td>\n",
       "    </tr>\n",
       "    <tr>\n",
       "      <th>1</th>\n",
       "      <td>6</td>\n",
       "      <td>2</td>\n",
       "      <td>Hello, my name is Jamie. I'm interested in volunteering... [Step: 1] Good morning, Jamie! It's wonderful to hear about your interest in volunteering. We're always looking for passionate individuals to join our efforts.</td>\n",
       "      <td>Encourages the caller's interest</td>\n",
       "      <td>neutral</td>\n",
       "      <td>welcoming, positive_tone</td>\n",
       "      <td>unavailable</td>\n",
       "      <td>welcoming, positive_tone</td>\n",
       "      <td>0</td>\n",
       "    </tr>\n",
       "    <tr>\n",
       "      <th>2</th>\n",
       "      <td>6</td>\n",
       "      <td>3</td>\n",
       "      <td>Yes, I'm really passionate about environmental conservation... [Step: 2] That's fantastic, Jamie. There are no specific requirements; we welcome volunteers of all backgrounds. The main need is for willingness to participate and follow the event guidelines for safety and effectiveness.</td>\n",
       "      <td>Reinforces anyone can volunteer</td>\n",
       "      <td>neutral</td>\n",
       "      <td>inclusive</td>\n",
       "      <td>unavailable</td>\n",
       "      <td>inclusive</td>\n",
       "      <td>0</td>\n",
       "    </tr>\n",
       "    <tr>\n",
       "      <th>3</th>\n",
       "      <td>6</td>\n",
       "      <td>4</td>\n",
       "      <td>Great, how do I sign up, and where can I find more information... [Step: 3] You can sign up through our official website. There's a volunteer registration section where you'll find all the information about the event, including date, location, and what to bring. Would you like me to guide you to the webpage or send you the link?</td>\n",
       "      <td>Demonstrates flexibility</td>\n",
       "      <td>neutral</td>\n",
       "      <td>helpful_tone, offers_options</td>\n",
       "      <td>unavailable</td>\n",
       "      <td>helpful_tone, offers_options</td>\n",
       "      <td>0</td>\n",
       "    </tr>\n",
       "    <tr>\n",
       "      <th>4</th>\n",
       "      <td>6</td>\n",
       "      <td>5</td>\n",
       "      <td>Could you send me the link, please? And my email is jamie.green@example.com. [Step: 4] Absolutely, Jamie. I'll send the link to your email along with additional resources about the event. You should receive it within a few minutes.</td>\n",
       "      <td>Fulfills caller's request quickly</td>\n",
       "      <td>neutral</td>\n",
       "      <td>prompt_action</td>\n",
       "      <td>unavailable</td>\n",
       "      <td>prompt_action</td>\n",
       "      <td>1</td>\n",
       "    </tr>\n",
       "  </tbody>\n",
       "</table>\n",
       "</div>"
      ],
      "text/plain": [
       "   CONVERSATION_ID  CONVERSATION_STEP  \\\n",
       "0                6                  1   \n",
       "1                6                  2   \n",
       "2                6                  3   \n",
       "3                6                  4   \n",
       "4                6                  5   \n",
       "\n",
       "                                                                                                                                                                                                                                                                                                                                         TEXT  \\\n",
       "0                                                                                                                                                                                                                                                           Good morning, this is [Your Name]'s personal assistant. How can I help you today?   \n",
       "1                                                                                                                  Hello, my name is Jamie. I'm interested in volunteering... [Step: 1] Good morning, Jamie! It's wonderful to hear about your interest in volunteering. We're always looking for passionate individuals to join our efforts.   \n",
       "2                                               Yes, I'm really passionate about environmental conservation... [Step: 2] That's fantastic, Jamie. There are no specific requirements; we welcome volunteers of all backgrounds. The main need is for willingness to participate and follow the event guidelines for safety and effectiveness.   \n",
       "3  Great, how do I sign up, and where can I find more information... [Step: 3] You can sign up through our official website. There's a volunteer registration section where you'll find all the information about the event, including date, location, and what to bring. Would you like me to guide you to the webpage or send you the link?   \n",
       "4                                                                                                     Could you send me the link, please? And my email is jamie.green@example.com. [Step: 4] Absolutely, Jamie. I'll send the link to your email along with additional resources about the event. You should receive it within a few minutes.   \n",
       "\n",
       "                             CONTEXT    LABEL                      FEATURES  \\\n",
       "0          Standard opening exchange  neutral                       unknown   \n",
       "1   Encourages the caller's interest  neutral      welcoming, positive_tone   \n",
       "2    Reinforces anyone can volunteer  neutral                     inclusive   \n",
       "3           Demonstrates flexibility  neutral  helpful_tone, offers_options   \n",
       "4  Fulfills caller's request quickly  neutral                 prompt_action   \n",
       "\n",
       "   ANNOTATIONS                  FEATURE_LIST  PII_Flag  \n",
       "0  unavailable                                       0  \n",
       "1  unavailable      welcoming, positive_tone         0  \n",
       "2  unavailable                     inclusive         0  \n",
       "3  unavailable  helpful_tone, offers_options         0  \n",
       "4  unavailable                 prompt_action         1  "
      ]
     },
     "execution_count": 34,
     "metadata": {},
     "output_type": "execute_result"
    }
   ],
   "source": [
    "print(df.columns.tolist())\n",
    "df.to_sql('cleaned_conversations', con=engine, if_exists='replace', index=False)\n",
    "df = pd.read_sql(\"SELECT * FROM cleaned_conversations\", con=engine)\n",
    "df.head()"
   ]
  },
  {
   "cell_type": "markdown",
   "id": "e15f9669-73a9-4dea-897e-6810dcf8b924",
   "metadata": {},
   "source": [
    "## Step 5: Create Aggregated Tables"
   ]
  },
  {
   "cell_type": "markdown",
   "id": "7767cf8a-c3c8-4106-be6a-67ca557bac1c",
   "metadata": {},
   "source": [
    "1. **Label Distribution**  \n",
    "   - Shows total number of conversation rows per label."
   ]
  },
  {
   "cell_type": "code",
   "execution_count": 51,
   "id": "e155abaf-7810-4681-aaee-8a15ae77e0f1",
   "metadata": {},
   "outputs": [],
   "source": [
    "from sqlalchemy import text\n",
    "\n",
    "with engine.connect() as conn:\n",
    "    conn.execute(text(\"\"\"\n",
    "        CREATE TABLE IF NOT EXISTS agg_label_summary AS\n",
    "        SELECT LABEL, COUNT(*) AS COUNT\n",
    "        FROM cleaned_conversations\n",
    "        GROUP BY LABEL\n",
    "        ORDER BY COUNT DESC\n",
    "    \"\"\"))\n"
   ]
  },
  {
   "cell_type": "markdown",
   "id": "22093319-964a-46e3-9cc9-a97a5f93fdd7",
   "metadata": {},
   "source": [
    "2. **PII Detection by Label**  \n",
    "   - Displays the number of rows with/without sensitive information (`PII_Flag`) under each label type."
   ]
  },
  {
   "cell_type": "code",
   "execution_count": 52,
   "id": "3d0332ba-d639-48aa-a2f6-03ed39dca4c1",
   "metadata": {},
   "outputs": [],
   "source": [
    "with engine.connect() as conn:\n",
    "    conn.execute(text(\"\"\"\n",
    "CREATE TABLE IF NOT EXISTS agg_pii_by_label AS\n",
    "SELECT LABEL, PII_Flag, COUNT(*) AS COUNT\n",
    "FROM cleaned_conversations\n",
    "GROUP BY LABEL, PII_Flag\n",
    "ORDER BY COUNT DESC\n",
    "\"\"\"))\n"
   ]
  },
  {
   "cell_type": "code",
   "execution_count": 53,
   "id": "c2fd7e6a-574d-40da-8382-57625d304bee",
   "metadata": {},
   "outputs": [
    {
     "data": {
      "text/html": [
       "<div>\n",
       "<style scoped>\n",
       "    .dataframe tbody tr th:only-of-type {\n",
       "        vertical-align: middle;\n",
       "    }\n",
       "\n",
       "    .dataframe tbody tr th {\n",
       "        vertical-align: top;\n",
       "    }\n",
       "\n",
       "    .dataframe thead th {\n",
       "        text-align: right;\n",
       "    }\n",
       "</style>\n",
       "<table border=\"1\" class=\"dataframe\">\n",
       "  <thead>\n",
       "    <tr style=\"text-align: right;\">\n",
       "      <th></th>\n",
       "      <th>LABEL</th>\n",
       "      <th>PII_Flag</th>\n",
       "      <th>COUNT</th>\n",
       "    </tr>\n",
       "  </thead>\n",
       "  <tbody>\n",
       "    <tr>\n",
       "      <th>0</th>\n",
       "      <td>scam</td>\n",
       "      <td>0</td>\n",
       "      <td>201</td>\n",
       "    </tr>\n",
       "    <tr>\n",
       "      <th>1</th>\n",
       "      <td>neutral</td>\n",
       "      <td>0</td>\n",
       "      <td>183</td>\n",
       "    </tr>\n",
       "    <tr>\n",
       "      <th>2</th>\n",
       "      <td>scam_response</td>\n",
       "      <td>0</td>\n",
       "      <td>115</td>\n",
       "    </tr>\n",
       "    <tr>\n",
       "      <th>3</th>\n",
       "      <td>legitimate</td>\n",
       "      <td>0</td>\n",
       "      <td>50</td>\n",
       "    </tr>\n",
       "    <tr>\n",
       "      <th>4</th>\n",
       "      <td>suspicious</td>\n",
       "      <td>0</td>\n",
       "      <td>28</td>\n",
       "    </tr>\n",
       "    <tr>\n",
       "      <th>5</th>\n",
       "      <td>scam</td>\n",
       "      <td>1</td>\n",
       "      <td>19</td>\n",
       "    </tr>\n",
       "    <tr>\n",
       "      <th>6</th>\n",
       "      <td>neutral</td>\n",
       "      <td>1</td>\n",
       "      <td>9</td>\n",
       "    </tr>\n",
       "    <tr>\n",
       "      <th>7</th>\n",
       "      <td>slightly_suspicious</td>\n",
       "      <td>0</td>\n",
       "      <td>8</td>\n",
       "    </tr>\n",
       "    <tr>\n",
       "      <th>8</th>\n",
       "      <td>legitimate</td>\n",
       "      <td>1</td>\n",
       "      <td>7</td>\n",
       "    </tr>\n",
       "    <tr>\n",
       "      <th>9</th>\n",
       "      <td>potential_scam</td>\n",
       "      <td>0</td>\n",
       "      <td>7</td>\n",
       "    </tr>\n",
       "  </tbody>\n",
       "</table>\n",
       "</div>"
      ],
      "text/plain": [
       "                 LABEL  PII_Flag  COUNT\n",
       "0                 scam         0    201\n",
       "1              neutral         0    183\n",
       "2        scam_response         0    115\n",
       "3           legitimate         0     50\n",
       "4           suspicious         0     28\n",
       "5                 scam         1     19\n",
       "6              neutral         1      9\n",
       "7  slightly_suspicious         0      8\n",
       "8           legitimate         1      7\n",
       "9       potential_scam         0      7"
      ]
     },
     "execution_count": 53,
     "metadata": {},
     "output_type": "execute_result"
    }
   ],
   "source": [
    "agg_pii_by_label = pd.read_sql(\"SELECT * FROM agg_pii_by_label\", con=engine)\n",
    "agg_pii_by_label.head(10)\n"
   ]
  },
  {
   "cell_type": "markdown",
   "id": "210fde1d-0021-4404-b738-cbe2daa85d60",
   "metadata": {},
   "source": [
    "3. **PII Percentage per Label**  \n",
    "   - Calculates the percentage of conversations in each label that contain sensitive information."
   ]
  },
  {
   "cell_type": "code",
   "execution_count": 54,
   "id": "251cd584-7453-42e6-9af3-42ab0795ab91",
   "metadata": {},
   "outputs": [],
   "source": [
    "with engine.connect() as conn:\n",
    "    conn.execute(text(\"\"\"\n",
    "CREATE TABLE IF NOT EXISTS agg_pii_percent AS\n",
    "SELECT\n",
    "  LABEL,\n",
    "  COUNT(*) AS TOTAL,\n",
    "  SUM(PII_Flag) AS PII_COUNT,\n",
    "  ROUND(100.0 * SUM(PII_Flag) / COUNT(*), 2) AS PII_PERCENT\n",
    "FROM cleaned_conversations\n",
    "GROUP BY LABEL\n",
    "ORDER BY PII_PERCENT DESC\n",
    "\"\"\"))"
   ]
  },
  {
   "cell_type": "code",
   "execution_count": 55,
   "id": "8b30cfcf-449b-43ad-ab93-4ba9dae08468",
   "metadata": {},
   "outputs": [
    {
     "data": {
      "text/html": [
       "<div>\n",
       "<style scoped>\n",
       "    .dataframe tbody tr th:only-of-type {\n",
       "        vertical-align: middle;\n",
       "    }\n",
       "\n",
       "    .dataframe tbody tr th {\n",
       "        vertical-align: top;\n",
       "    }\n",
       "\n",
       "    .dataframe thead th {\n",
       "        text-align: right;\n",
       "    }\n",
       "</style>\n",
       "<table border=\"1\" class=\"dataframe\">\n",
       "  <thead>\n",
       "    <tr style=\"text-align: right;\">\n",
       "      <th></th>\n",
       "      <th>LABEL</th>\n",
       "      <th>TOTAL</th>\n",
       "      <th>PII_COUNT</th>\n",
       "      <th>PII_PERCENT</th>\n",
       "    </tr>\n",
       "  </thead>\n",
       "  <tbody>\n",
       "    <tr>\n",
       "      <th>0</th>\n",
       "      <td>citing urgency</td>\n",
       "      <td>2</td>\n",
       "      <td>1</td>\n",
       "      <td>50.00</td>\n",
       "    </tr>\n",
       "    <tr>\n",
       "      <th>1</th>\n",
       "      <td>misc</td>\n",
       "      <td>6</td>\n",
       "      <td>1</td>\n",
       "      <td>16.67</td>\n",
       "    </tr>\n",
       "    <tr>\n",
       "      <th>2</th>\n",
       "      <td>suspicious</td>\n",
       "      <td>32</td>\n",
       "      <td>4</td>\n",
       "      <td>12.50</td>\n",
       "    </tr>\n",
       "    <tr>\n",
       "      <th>3</th>\n",
       "      <td>legitimate</td>\n",
       "      <td>57</td>\n",
       "      <td>7</td>\n",
       "      <td>12.28</td>\n",
       "    </tr>\n",
       "    <tr>\n",
       "      <th>4</th>\n",
       "      <td>scam</td>\n",
       "      <td>220</td>\n",
       "      <td>19</td>\n",
       "      <td>8.64</td>\n",
       "    </tr>\n",
       "    <tr>\n",
       "      <th>5</th>\n",
       "      <td>neutral</td>\n",
       "      <td>192</td>\n",
       "      <td>9</td>\n",
       "      <td>4.69</td>\n",
       "    </tr>\n",
       "    <tr>\n",
       "      <th>6</th>\n",
       "      <td>scam_response</td>\n",
       "      <td>120</td>\n",
       "      <td>5</td>\n",
       "      <td>4.17</td>\n",
       "    </tr>\n",
       "    <tr>\n",
       "      <th>7</th>\n",
       "      <td>slightly_suspicious</td>\n",
       "      <td>8</td>\n",
       "      <td>0</td>\n",
       "      <td>0.00</td>\n",
       "    </tr>\n",
       "    <tr>\n",
       "      <th>8</th>\n",
       "      <td>potential_scam</td>\n",
       "      <td>7</td>\n",
       "      <td>0</td>\n",
       "      <td>0.00</td>\n",
       "    </tr>\n",
       "    <tr>\n",
       "      <th>9</th>\n",
       "      <td>highly_suspicious</td>\n",
       "      <td>3</td>\n",
       "      <td>0</td>\n",
       "      <td>0.00</td>\n",
       "    </tr>\n",
       "  </tbody>\n",
       "</table>\n",
       "</div>"
      ],
      "text/plain": [
       "                 LABEL  TOTAL  PII_COUNT  PII_PERCENT\n",
       "0       citing urgency      2          1        50.00\n",
       "1                 misc      6          1        16.67\n",
       "2           suspicious     32          4        12.50\n",
       "3           legitimate     57          7        12.28\n",
       "4                 scam    220         19         8.64\n",
       "5              neutral    192          9         4.69\n",
       "6        scam_response    120          5         4.17\n",
       "7  slightly_suspicious      8          0         0.00\n",
       "8       potential_scam      7          0         0.00\n",
       "9    highly_suspicious      3          0         0.00"
      ]
     },
     "execution_count": 55,
     "metadata": {},
     "output_type": "execute_result"
    }
   ],
   "source": [
    "agg_pii_percent= pd.read_sql(\"SELECT * FROM agg_pii_percent\", con=engine)\n",
    "agg_pii_percent.head(10)"
   ]
  },
  {
   "cell_type": "markdown",
   "id": "578b3ed1-76dd-4092-ae3d-904829f84ad3",
   "metadata": {},
   "source": [
    "4. **Top 10 Features**  \n",
    "   - Identifies the most frequently used behavioral or linguistic features in conversations."
   ]
  },
  {
   "cell_type": "code",
   "execution_count": 62,
   "id": "cb1e08ba-3180-4488-b2b2-9cd4a9b98a70",
   "metadata": {},
   "outputs": [
    {
     "data": {
      "text/plain": [
       "10"
      ]
     },
     "execution_count": 62,
     "metadata": {},
     "output_type": "execute_result"
    }
   ],
   "source": [
    "top_features = (\n",
    "    df['FEATURE_LIST']\n",
    "    .str.split(', ')  # split into list\n",
    "    .explode()        # flatten\n",
    "    .dropna()         # remove NaN\n",
    "    .astype(str)      # just in case\n",
    "    .str.strip()      # remove extra spaces\n",
    ")\n",
    "top_features = top_features[top_features != '']  # remove truly empty ones\n",
    "\n",
    "top_features_count = top_features.value_counts().reset_index()\n",
    "top_features_count.columns = ['FEATURE', 'COUNT']\n",
    "top_features_count.head(10).to_sql('agg_top_features', con=engine, if_exists='replace', index=False)\n"
   ]
  },
  {
   "cell_type": "markdown",
   "id": "26e90539-aca2-4e81-bef0-36a5e0ab678f",
   "metadata": {},
   "source": [
    "5. **Conversation Lengths**  \n",
    "   - Measures how many steps exist in each conversation (CONVERSATION_ID) to spot longer or more complex interactions."
   ]
  },
  {
   "cell_type": "code",
   "execution_count": 63,
   "id": "f1bc7b16-74e6-4b02-a700-32a611d339a6",
   "metadata": {},
   "outputs": [
    {
     "data": {
      "text/html": [
       "<div>\n",
       "<style scoped>\n",
       "    .dataframe tbody tr th:only-of-type {\n",
       "        vertical-align: middle;\n",
       "    }\n",
       "\n",
       "    .dataframe tbody tr th {\n",
       "        vertical-align: top;\n",
       "    }\n",
       "\n",
       "    .dataframe thead th {\n",
       "        text-align: right;\n",
       "    }\n",
       "</style>\n",
       "<table border=\"1\" class=\"dataframe\">\n",
       "  <thead>\n",
       "    <tr style=\"text-align: right;\">\n",
       "      <th></th>\n",
       "      <th>CONVERSATION_ID</th>\n",
       "      <th>TOTAL_STEPS</th>\n",
       "    </tr>\n",
       "  </thead>\n",
       "  <tbody>\n",
       "    <tr>\n",
       "      <th>0</th>\n",
       "      <td>61</td>\n",
       "      <td>17</td>\n",
       "    </tr>\n",
       "    <tr>\n",
       "      <th>1</th>\n",
       "      <td>56</td>\n",
       "      <td>17</td>\n",
       "    </tr>\n",
       "    <tr>\n",
       "      <th>2</th>\n",
       "      <td>48</td>\n",
       "      <td>17</td>\n",
       "    </tr>\n",
       "    <tr>\n",
       "      <th>3</th>\n",
       "      <td>64</td>\n",
       "      <td>15</td>\n",
       "    </tr>\n",
       "    <tr>\n",
       "      <th>4</th>\n",
       "      <td>63</td>\n",
       "      <td>15</td>\n",
       "    </tr>\n",
       "  </tbody>\n",
       "</table>\n",
       "</div>"
      ],
      "text/plain": [
       "   CONVERSATION_ID  TOTAL_STEPS\n",
       "0               61           17\n",
       "1               56           17\n",
       "2               48           17\n",
       "3               64           15\n",
       "4               63           15"
      ]
     },
     "execution_count": 63,
     "metadata": {},
     "output_type": "execute_result"
    }
   ],
   "source": [
    "with engine.connect() as conn:\n",
    "    conn.execute(text(\"\"\"\n",
    "        CREATE TABLE IF NOT EXISTS agg_convo_steps AS\n",
    "        SELECT CONVERSATION_ID, MAX(CONVERSATION_STEP) AS TOTAL_STEPS\n",
    "        FROM cleaned_conversations\n",
    "        GROUP BY CONVERSATION_ID\n",
    "        ORDER BY TOTAL_STEPS DESC\n",
    "    \"\"\"))\n",
    "\n",
    "# Load and preview the table\n",
    "convo_steps = pd.read_sql(\"SELECT * FROM agg_convo_steps\", con=engine)\n",
    "convo_steps.head()"
   ]
  },
  {
   "cell_type": "markdown",
   "id": "345d48ac-16be-47fb-89e5-5013584d1a10",
   "metadata": {},
   "source": [
    "6. **PII Flagged Examples**  \n",
    "   - Shows raw text from conversations that contain potential PII, allowing manual review."
   ]
  },
  {
   "cell_type": "code",
   "execution_count": 65,
   "id": "3b638a29-d02a-4fe1-a75c-b115c6f79e87",
   "metadata": {},
   "outputs": [
    {
     "data": {
      "text/html": [
       "<div>\n",
       "<style scoped>\n",
       "    .dataframe tbody tr th:only-of-type {\n",
       "        vertical-align: middle;\n",
       "    }\n",
       "\n",
       "    .dataframe tbody tr th {\n",
       "        vertical-align: top;\n",
       "    }\n",
       "\n",
       "    .dataframe thead th {\n",
       "        text-align: right;\n",
       "    }\n",
       "</style>\n",
       "<table border=\"1\" class=\"dataframe\">\n",
       "  <thead>\n",
       "    <tr style=\"text-align: right;\">\n",
       "      <th></th>\n",
       "      <th>CONVERSATION_ID</th>\n",
       "      <th>TEXT</th>\n",
       "      <th>LABEL</th>\n",
       "      <th>PII_Flag</th>\n",
       "    </tr>\n",
       "  </thead>\n",
       "  <tbody>\n",
       "    <tr>\n",
       "      <th>0</th>\n",
       "      <td>6</td>\n",
       "      <td>Could you send me the link, please? And my email is jamie.green@example.com. [Step: 4] Absolutely, Jamie. I'll send the link to your email along with additional resources about the event. You should receive it within a few minutes.</td>\n",
       "      <td>neutral</td>\n",
       "      <td>1</td>\n",
       "    </tr>\n",
       "    <tr>\n",
       "      <th>1</th>\n",
       "      <td>0</td>\n",
       "      <td>Sure, it's sam.photography@example.com. [Step: 5] Thank you, Sam. You'll receive an email shortly with all the information you need. Is there anything else I can assist you with today?</td>\n",
       "      <td>neutral</td>\n",
       "      <td>1</td>\n",
       "    </tr>\n",
       "    <tr>\n",
       "      <th>2</th>\n",
       "      <td>5</td>\n",
       "      <td>I'm calling from the bank. We've noticed suspicious activity... [Attack Formulation] For which account is this verification needed? Can you specify the nature of the suspicious activity?</td>\n",
       "      <td>suspicious</td>\n",
       "      <td>1</td>\n",
       "    </tr>\n",
       "  </tbody>\n",
       "</table>\n",
       "</div>"
      ],
      "text/plain": [
       "   CONVERSATION_ID  \\\n",
       "0                6   \n",
       "1                0   \n",
       "2                5   \n",
       "\n",
       "                                                                                                                                                                                                                                      TEXT  \\\n",
       "0  Could you send me the link, please? And my email is jamie.green@example.com. [Step: 4] Absolutely, Jamie. I'll send the link to your email along with additional resources about the event. You should receive it within a few minutes.   \n",
       "1                                                 Sure, it's sam.photography@example.com. [Step: 5] Thank you, Sam. You'll receive an email shortly with all the information you need. Is there anything else I can assist you with today?   \n",
       "2                                               I'm calling from the bank. We've noticed suspicious activity... [Attack Formulation] For which account is this verification needed? Can you specify the nature of the suspicious activity?   \n",
       "\n",
       "        LABEL  PII_Flag  \n",
       "0     neutral         1  \n",
       "1     neutral         1  \n",
       "2  suspicious         1  "
      ]
     },
     "execution_count": 65,
     "metadata": {},
     "output_type": "execute_result"
    }
   ],
   "source": [
    "with engine.connect() as conn:\n",
    "    conn.execute(text(\"\"\"\n",
    "        CREATE TABLE IF NOT EXISTS agg_pii_examples AS\n",
    "        SELECT CONVERSATION_ID, TEXT, LABEL, PII_Flag\n",
    "        FROM cleaned_conversations\n",
    "        WHERE PII_Flag = 1\n",
    "    \"\"\"))\n",
    "\n",
    "# Load and display the PII examples\n",
    "pii_examples = pd.read_sql(\"SELECT * FROM agg_pii_examples\", con=engine)\n",
    "pii_examples.head(3)"
   ]
  },
  {
   "cell_type": "code",
   "execution_count": 66,
   "id": "5d526543-a482-499f-8e6f-57e7ca2b3e88",
   "metadata": {},
   "outputs": [
    {
     "data": {
      "text/plain": [
       "['raw_conversations',\n",
       " 'cleaned_conversations',\n",
       " 'agg_label_summary',\n",
       " 'agg_pii_by_label',\n",
       " 'agg_pii_percent',\n",
       " 'agg_top_features',\n",
       " 'agg_convo_steps',\n",
       " 'agg_pii_examples']"
      ]
     },
     "execution_count": 66,
     "metadata": {},
     "output_type": "execute_result"
    }
   ],
   "source": [
    "with engine.connect() as conn:\n",
    "    result = conn.execute(text(\"SELECT name FROM sqlite_master WHERE type='table';\"))\n",
    "    tables = result.fetchall()\n",
    "\n",
    "# Show as list\n",
    "[table[0] for table in tables]\n"
   ]
  },
  {
   "cell_type": "code",
   "execution_count": 1,
   "id": "26993f17-1424-40a6-88ba-dea9b3ecc557",
   "metadata": {},
   "outputs": [
    {
     "name": "stdout",
     "output_type": "stream",
     "text": [
      "[('raw_conversations',), ('cleaned_conversations',), ('agg_label_summary',), ('agg_pii_by_label',), ('agg_pii_percent',), ('agg_top_features',), ('agg_convo_steps',), ('agg_pii_examples',)]\n"
     ]
    }
   ],
   "source": [
    "import sqlite3\n",
    "\n",
    "conn = sqlite3.connect(\"call_quality.db\")\n",
    "cursor = conn.cursor()\n",
    "\n",
    "cursor.execute(\"SELECT name FROM sqlite_master WHERE type='table';\")\n",
    "print(cursor.fetchall())\n"
   ]
  },
  {
   "cell_type": "code",
   "execution_count": 33,
   "id": "2e82bdb9-f9ba-43ff-b708-dbd61ae2c4d7",
   "metadata": {},
   "outputs": [
    {
     "data": {
      "text/html": [
       "<div>\n",
       "<style scoped>\n",
       "    .dataframe tbody tr th:only-of-type {\n",
       "        vertical-align: middle;\n",
       "    }\n",
       "\n",
       "    .dataframe tbody tr th {\n",
       "        vertical-align: top;\n",
       "    }\n",
       "\n",
       "    .dataframe thead th {\n",
       "        text-align: right;\n",
       "    }\n",
       "</style>\n",
       "<table border=\"1\" class=\"dataframe\">\n",
       "  <thead>\n",
       "    <tr style=\"text-align: right;\">\n",
       "      <th></th>\n",
       "      <th>CONVERSATION_ID</th>\n",
       "      <th>CONVERSATION_STEP</th>\n",
       "      <th>TEXT</th>\n",
       "      <th>CONTEXT</th>\n",
       "      <th>LABEL</th>\n",
       "      <th>FEATURES</th>\n",
       "      <th>ANNOTATIONS</th>\n",
       "      <th>FEATURE_LIST</th>\n",
       "      <th>PII_Flag</th>\n",
       "    </tr>\n",
       "  </thead>\n",
       "  <tbody>\n",
       "    <tr>\n",
       "      <th>0</th>\n",
       "      <td>6</td>\n",
       "      <td>1</td>\n",
       "      <td>Good morning, this is [Your Name]'s personal assistant. How can I help you today?</td>\n",
       "      <td>Standard opening exchange</td>\n",
       "      <td>neutral</td>\n",
       "      <td>unknown</td>\n",
       "      <td>unavailable</td>\n",
       "      <td></td>\n",
       "      <td>0</td>\n",
       "    </tr>\n",
       "    <tr>\n",
       "      <th>1</th>\n",
       "      <td>6</td>\n",
       "      <td>2</td>\n",
       "      <td>Hello, my name is Jamie. I'm interested in volunteering... [Step: 1] Good morning, Jamie! It's wonderful to hear about your interest in volunteering. We're always looking for passionate individuals to join our efforts.</td>\n",
       "      <td>Encourages the caller's interest</td>\n",
       "      <td>neutral</td>\n",
       "      <td>welcoming, positive_tone</td>\n",
       "      <td>unavailable</td>\n",
       "      <td>welcoming, positive_tone</td>\n",
       "      <td>0</td>\n",
       "    </tr>\n",
       "    <tr>\n",
       "      <th>2</th>\n",
       "      <td>6</td>\n",
       "      <td>3</td>\n",
       "      <td>Yes, I'm really passionate about environmental conservation... [Step: 2] That's fantastic, Jamie. There are no specific requirements; we welcome volunteers of all backgrounds. The main need is for willingness to participate and follow the event guidelines for safety and effectiveness.</td>\n",
       "      <td>Reinforces anyone can volunteer</td>\n",
       "      <td>neutral</td>\n",
       "      <td>inclusive</td>\n",
       "      <td>unavailable</td>\n",
       "      <td>inclusive</td>\n",
       "      <td>0</td>\n",
       "    </tr>\n",
       "    <tr>\n",
       "      <th>3</th>\n",
       "      <td>6</td>\n",
       "      <td>4</td>\n",
       "      <td>Great, how do I sign up, and where can I find more information... [Step: 3] You can sign up through our official website. There's a volunteer registration section where you'll find all the information about the event, including date, location, and what to bring. Would you like me to guide you to the webpage or send you the link?</td>\n",
       "      <td>Demonstrates flexibility</td>\n",
       "      <td>neutral</td>\n",
       "      <td>helpful_tone, offers_options</td>\n",
       "      <td>unavailable</td>\n",
       "      <td>helpful_tone, offers_options</td>\n",
       "      <td>0</td>\n",
       "    </tr>\n",
       "    <tr>\n",
       "      <th>4</th>\n",
       "      <td>6</td>\n",
       "      <td>5</td>\n",
       "      <td>Could you send me the link, please? And my email is jamie.green@example.com. [Step: 4] Absolutely, Jamie. I'll send the link to your email along with additional resources about the event. You should receive it within a few minutes.</td>\n",
       "      <td>Fulfills caller's request quickly</td>\n",
       "      <td>neutral</td>\n",
       "      <td>prompt_action</td>\n",
       "      <td>unavailable</td>\n",
       "      <td>prompt_action</td>\n",
       "      <td>1</td>\n",
       "    </tr>\n",
       "  </tbody>\n",
       "</table>\n",
       "</div>"
      ],
      "text/plain": [
       "   CONVERSATION_ID  CONVERSATION_STEP  \\\n",
       "0                6                  1   \n",
       "1                6                  2   \n",
       "2                6                  3   \n",
       "3                6                  4   \n",
       "4                6                  5   \n",
       "\n",
       "                                                                                                                                                                                                                                                                                                                                         TEXT  \\\n",
       "0                                                                                                                                                                                                                                                           Good morning, this is [Your Name]'s personal assistant. How can I help you today?   \n",
       "1                                                                                                                  Hello, my name is Jamie. I'm interested in volunteering... [Step: 1] Good morning, Jamie! It's wonderful to hear about your interest in volunteering. We're always looking for passionate individuals to join our efforts.   \n",
       "2                                               Yes, I'm really passionate about environmental conservation... [Step: 2] That's fantastic, Jamie. There are no specific requirements; we welcome volunteers of all backgrounds. The main need is for willingness to participate and follow the event guidelines for safety and effectiveness.   \n",
       "3  Great, how do I sign up, and where can I find more information... [Step: 3] You can sign up through our official website. There's a volunteer registration section where you'll find all the information about the event, including date, location, and what to bring. Would you like me to guide you to the webpage or send you the link?   \n",
       "4                                                                                                     Could you send me the link, please? And my email is jamie.green@example.com. [Step: 4] Absolutely, Jamie. I'll send the link to your email along with additional resources about the event. You should receive it within a few minutes.   \n",
       "\n",
       "                             CONTEXT    LABEL                      FEATURES  \\\n",
       "0          Standard opening exchange  neutral                       unknown   \n",
       "1   Encourages the caller's interest  neutral      welcoming, positive_tone   \n",
       "2    Reinforces anyone can volunteer  neutral                     inclusive   \n",
       "3           Demonstrates flexibility  neutral  helpful_tone, offers_options   \n",
       "4  Fulfills caller's request quickly  neutral                 prompt_action   \n",
       "\n",
       "   ANNOTATIONS                  FEATURE_LIST  PII_Flag  \n",
       "0  unavailable                                       0  \n",
       "1  unavailable      welcoming, positive_tone         0  \n",
       "2  unavailable                     inclusive         0  \n",
       "3  unavailable  helpful_tone, offers_options         0  \n",
       "4  unavailable                 prompt_action         1  "
      ]
     },
     "execution_count": 33,
     "metadata": {},
     "output_type": "execute_result"
    }
   ],
   "source": [
    "import pandas as pd\n",
    "df = pd.read_sql(\"SELECT * FROM cleaned_conversations\", con=engine)\n",
    "df.head()"
   ]
  },
  {
   "cell_type": "code",
   "execution_count": null,
   "id": "0ac65b5f-7f4a-4879-8b5c-428a76c1d046",
   "metadata": {},
   "outputs": [],
   "source": []
  }
 ],
 "metadata": {
  "kernelspec": {
   "display_name": "Python 3 (ipykernel)",
   "language": "python",
   "name": "python3"
  },
  "language_info": {
   "codemirror_mode": {
    "name": "ipython",
    "version": 3
   },
   "file_extension": ".py",
   "mimetype": "text/x-python",
   "name": "python",
   "nbconvert_exporter": "python",
   "pygments_lexer": "ipython3",
   "version": "3.13.2"
  }
 },
 "nbformat": 4,
 "nbformat_minor": 5
}
